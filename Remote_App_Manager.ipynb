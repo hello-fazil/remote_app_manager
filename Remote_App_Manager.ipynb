{
 "cells": [
  {
   "cell_type": "code",
   "execution_count": null,
   "id": "8e62fa7e",
   "metadata": {},
   "outputs": [],
   "source": [
    "!pip3 install paramiko\n",
    "!pip3 install click"
   ]
  },
  {
   "cell_type": "markdown",
   "id": "9b7e381e",
   "metadata": {},
   "source": [
    "### Robot  Apps config files example\n",
    "`stretch_gamepad.yaml`\n",
    "```yaml\n",
    "name: 'stretch_gamepad'\n",
    "start_app_cmd: '~/.local/bin/stretch_gamepad_teleop.sh'\n",
    "kill_app_cmd: 'pkill -9 \"gamepad\"'\n",
    "monitor_app_pattern_list: ['gamepad']\n",
    "```\n",
    "`stretch_web_interface.yaml`\n",
    "```yaml\n",
    "name: 'stretch_web_interface'\n",
    "start_app_cmd: '~/.local/bin/stretch_web_interface.sh'\n",
    "kill_app_cmd: 'pkill -9 \"stretch_web_interface\"'\n",
    "monitor_app_pattern_list: ['stretch_web_interface','ros','ros2','stretch_driver']\n",
    "```"
   ]
  },
  {
   "cell_type": "markdown",
   "id": "e11594f2",
   "metadata": {},
   "source": [
    "### Robot Network Config File"
   ]
  },
  {
   "cell_type": "code",
   "execution_count": 1,
   "id": "fb937419",
   "metadata": {},
   "outputs": [],
   "source": [
    "host_config = {'hostname':'10.1.10.143',\n",
    "            'port':22,\n",
    "            'username':'hello-robot',\n",
    "            'password':'hello2020',\n",
    "            'apps_directory':'/home/hello-robot/apps'}"
   ]
  },
  {
   "cell_type": "markdown",
   "id": "28211b81",
   "metadata": {},
   "source": [
    "### App management via SSH Client"
   ]
  },
  {
   "cell_type": "code",
   "execution_count": 2,
   "id": "49411e37",
   "metadata": {},
   "outputs": [],
   "source": [
    "from remote_app_manager import RemoteAppManager"
   ]
  },
  {
   "cell_type": "code",
   "execution_count": 3,
   "id": "f9ac9c90",
   "metadata": {},
   "outputs": [
    {
     "name": "stdout",
     "output_type": "stream",
     "text": [
      "HOST CONFIG SET FOR hello-robot@10.1.10.143\u001b[0m\n"
     ]
    }
   ],
   "source": [
    "app_manager = RemoteAppManager()\n",
    "app_manager.set_host_config(host_config)"
   ]
  },
  {
   "cell_type": "code",
   "execution_count": 4,
   "id": "51dcdccc",
   "metadata": {},
   "outputs": [
    {
     "data": {
      "text/plain": [
       "True"
      ]
     },
     "execution_count": 4,
     "metadata": {},
     "output_type": "execute_result"
    }
   ],
   "source": [
    "app_manager.is_host_config_valid()"
   ]
  },
  {
   "cell_type": "code",
   "execution_count": 5,
   "id": "4ff15dff",
   "metadata": {},
   "outputs": [
    {
     "name": "stdout",
     "output_type": "stream",
     "text": [
      "Attempting to create SSH connection.....\u001b[0m\n",
      "\u001b[32mConnection Success!\u001b[0m\n"
     ]
    },
    {
     "data": {
      "text/plain": [
       "True"
      ]
     },
     "execution_count": 5,
     "metadata": {},
     "output_type": "execute_result"
    }
   ],
   "source": [
    "app_manager.connect_remote_host()"
   ]
  },
  {
   "cell_type": "code",
   "execution_count": 6,
   "id": "a4e233af",
   "metadata": {},
   "outputs": [
    {
     "data": {
      "text/plain": [
       "True"
      ]
     },
     "execution_count": 6,
     "metadata": {},
     "output_type": "execute_result"
    }
   ],
   "source": [
    "app_manager.is_connected()"
   ]
  },
  {
   "cell_type": "code",
   "execution_count": 7,
   "id": "911dfcb7",
   "metadata": {},
   "outputs": [
    {
     "name": "stdout",
     "output_type": "stream",
     "text": [
      "Found App: stretch_gamepad\n",
      "Found App: calibrate_robot\n"
     ]
    }
   ],
   "source": [
    "app_manager.populate_applicaltions()"
   ]
  },
  {
   "cell_type": "code",
   "execution_count": 8,
   "id": "7df11d0f",
   "metadata": {},
   "outputs": [
    {
     "data": {
      "text/plain": [
       "['stretch_gamepad', 'calibrate_robot']"
      ]
     },
     "execution_count": 8,
     "metadata": {},
     "output_type": "execute_result"
    }
   ],
   "source": [
    "app_manager.get_available_apps()"
   ]
  },
  {
   "cell_type": "code",
   "execution_count": null,
   "id": "180386df",
   "metadata": {},
   "outputs": [],
   "source": [
    "app_manager.is_app_running('stretch_gamepad')"
   ]
  },
  {
   "cell_type": "code",
   "execution_count": null,
   "id": "479038cb",
   "metadata": {
    "scrolled": true
   },
   "outputs": [],
   "source": [
    "app_manager.start_application('stretch_gamepad')"
   ]
  },
  {
   "cell_type": "code",
   "execution_count": null,
   "id": "c5073dab",
   "metadata": {},
   "outputs": [],
   "source": [
    "app_manager.kill_application('stretch_gamepad')"
   ]
  },
  {
   "cell_type": "code",
   "execution_count": null,
   "id": "33f895c9",
   "metadata": {},
   "outputs": [],
   "source": [
    "app_manager.start_application('calibrate_robot')"
   ]
  },
  {
   "cell_type": "code",
   "execution_count": null,
   "id": "5d04f04c-b084-45cb-a01b-592efc6d228c",
   "metadata": {},
   "outputs": [],
   "source": []
  }
 ],
 "metadata": {
  "kernelspec": {
   "display_name": "Python 3 (ipykernel)",
   "language": "python",
   "name": "python3"
  },
  "language_info": {
   "codemirror_mode": {
    "name": "ipython",
    "version": 3
   },
   "file_extension": ".py",
   "mimetype": "text/x-python",
   "name": "python",
   "nbconvert_exporter": "python",
   "pygments_lexer": "ipython3",
   "version": "3.10.12"
  }
 },
 "nbformat": 4,
 "nbformat_minor": 5
}
